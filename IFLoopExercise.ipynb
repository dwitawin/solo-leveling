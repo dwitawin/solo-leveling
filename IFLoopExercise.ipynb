{
 "cells": [
  {
   "cell_type": "markdown",
   "metadata": {},
   "source": [
    "Exercise 1:\n",
    "Write a Python program to construct the following pattern, using a nested loop number.\n",
    "Expected Output\n",
    "1\n",
    "22\n",
    "333\n",
    "4444\n",
    "55555\n",
    "666666\n",
    "7777777\n",
    "88888888\n",
    "999999999"
   ]
  },
  {
   "cell_type": "code",
   "execution_count": 1,
   "metadata": {},
   "outputs": [
    {
     "name": "stdout",
     "output_type": "stream",
     "text": [
      "\n",
      "1\n",
      "22\n",
      "333\n",
      "4444\n",
      "55555\n",
      "666666\n",
      "7777777\n",
      "88888888\n",
      "999999999\n"
     ]
    }
   ],
   "source": [
    "#Exercise 1\n",
    "n = 10;\n",
    "for i in range(n):\n",
    "    for j in range(i):\n",
    "        print(i, end=\"\")\n",
    "    print('')\n"
   ]
  },
  {
   "cell_type": "markdown",
   "metadata": {},
   "source": [
    "Exercise 2:\n",
    "Write a Python program to check the validity of passwords input by users\n",
    "Validation :\n",
    "At least 1 letter between [a-z] and 1 letter between [A-Z].\n",
    "At least 1 number between [0-9].\n",
    "At least 1 character from [$#@].\n",
    "Minimum length 6 characters.\n",
    "Maximum length 16 characters."
   ]
  },
  {
   "cell_type": "code",
   "execution_count": 4,
   "metadata": {},
   "outputs": [
    {
     "name": "stdout",
     "output_type": "stream",
     "text": [
      "Password must have at least one uppercase letter.\n",
      "Password must have at least one digit.\n",
      "Password must have at least one of characters: $, #, @\n",
      "Password is valid.\n"
     ]
    }
   ],
   "source": [
    "# Exercise 2\n",
    "\n",
    "flagValid = False\n",
    "\n",
    "while not flagValid:\n",
    "    password = input('Input password: ')\n",
    "    if len(password) < 6 or len(password) > 16:\n",
    "        print('Password must be between 6 and 16 characters.')\n",
    "        # continue\n",
    "    elif not any(c.islower() for c in password):\n",
    "        print('Password must have at least one lowercase letter.')\n",
    "        # continue\n",
    "    elif not any(c.isupper() for c in password):\n",
    "        print('Password must have at least one uppercase letter.')\n",
    "        # continue\n",
    "    elif not any(c.isdigit() for c in password):\n",
    "        print('Password must have at least one digit.')\n",
    "        # continue\n",
    "    elif not any(c in ['$','#','@'] for c in password):\n",
    "        print('Password must have at least one of characters: $, #, @')\n",
    "        # continue\n",
    "    else:\n",
    "        flagValid = True\n",
    "        print('Password is valid.')\n",
    "        # break"
   ]
  }
 ],
 "metadata": {
  "kernelspec": {
   "display_name": "base",
   "language": "python",
   "name": "python3"
  },
  "language_info": {
   "codemirror_mode": {
    "name": "ipython",
    "version": 3
   },
   "file_extension": ".py",
   "mimetype": "text/x-python",
   "name": "python",
   "nbconvert_exporter": "python",
   "pygments_lexer": "ipython3",
   "version": "3.11.4"
  },
  "orig_nbformat": 4
 },
 "nbformat": 4,
 "nbformat_minor": 2
}
