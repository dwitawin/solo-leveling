{
 "cells": [
  {
   "cell_type": "code",
   "execution_count": 1,
   "metadata": {},
   "outputs": [],
   "source": [
    "# import libraries\n",
    "import pandas as pd\n",
    "import requests\n",
    "from sqlalchemy import create_engine"
   ]
  },
  {
   "cell_type": "code",
   "execution_count": 2,
   "metadata": {},
   "outputs": [
    {
     "name": "stdout",
     "output_type": "stream",
     "text": [
      "[{'domains': ['akfarmitseda.ac.id'], 'country': 'Indonesia', 'alpha_two_code': 'ID', 'web_pages': ['http://www.akfarmitseda.ac.id/'], 'name': 'Akademi Farmasi Mitra Sehat Mandiri Sidoarjo', 'state-province': None}, {'domains': ['akprind.ac.id'], 'country': 'Indonesia', 'alpha_two_code': 'ID', 'web_pages': ['http://www.akprind.ac.id/'], 'name': 'Institut Sains & Teknologi Akprind', 'state-province': None}, {'domains': ['amikom.ac.id'], 'country': 'Indonesia', 'alpha_two_code': 'ID', 'web_pages': ['http://www.amikom.ac.id/'], 'name': 'STMIK AMIKOM Yogyakarta', 'state-province': None}, {'domains': ['stikesrsanwarmedika.ac.id'], 'country': 'Indonesia', 'alpha_two_code': 'ID', 'web_pages': ['http://www.stikesrsanwarmedika.ac.id/'], 'name': 'STIKES RS Anwar Medika', 'state-province': None}, {'domains': ['atmajaya.ac.id'], 'country': 'Indonesia', 'alpha_two_code': 'ID', 'web_pages': ['http://www.atmajaya.ac.id/'], 'name': 'Universitas Katolik Indonesia Atma Jaya', 'state-province': None}, {'domains': ['bakrie.ac.id'], 'country': 'Indonesia', 'alpha_two_code': 'ID', 'web_pages': ['http://www.bakrie.ac.id/'], 'name': 'Universitas Bakrie', 'state-province': None}, {'domains': ['binus.ac.id'], 'country': 'Indonesia', 'alpha_two_code': 'ID', 'web_pages': ['http://www.binus.ac.id/'], 'name': 'Binus University', 'state-province': None}, {'domains': ['stikes-ppni.ac.id'], 'country': 'Indonesia', 'alpha_two_code': 'ID', 'web_pages': ['http://www.stikes-ppni.ac.id/'], 'name': 'STIKES Bina Sehat PPNI Mojokerto', 'state-province': None}, {'domains': ['bunghatta.ac.id'], 'country': 'Indonesia', 'alpha_two_code': 'ID', 'web_pages': ['http://www.bunghatta.ac.id/'], 'name': 'Universitas Bung Hatta', 'state-province': None}, {'domains': ['dinus.ac.id'], 'country': 'Indonesia', 'alpha_two_code': 'ID', 'web_pages': ['http://www.dinus.ac.id/'], 'name': 'Universitas Dian Nuswantoro', 'state-province': None}, {'domains': ['gunadarma.ac.id'], 'country': 'Indonesia', 'alpha_two_code': 'ID', 'web_pages': ['http://www.gunadarma.ac.id/'], 'name': 'Universitas Gunadarma', 'state-province': None}, {'domains': ['ibnuchaldun.ac.id'], 'country': 'Indonesia', 'alpha_two_code': 'ID', 'web_pages': ['http://www.ibnuchaldun.ac.id/'], 'name': 'Universitas Ibn Chaldun Jakarta', 'state-province': None}, {'domains': ['indonusa.ac.id'], 'country': 'Indonesia', 'alpha_two_code': 'ID', 'web_pages': ['http://www.indonusa.ac.id/'], 'name': 'Universitas Indonusa Esa Unggul', 'state-province': None}, {'domains': ['ipb.ac.id'], 'country': 'Indonesia', 'alpha_two_code': 'ID', 'web_pages': ['http://www.ipb.ac.id/'], 'name': 'Bogor Agricultural University', 'state-province': None}, {'domains': ['ista.ac.id'], 'country': 'Indonesia', 'alpha_two_code': 'ID', 'web_pages': ['http://www.ista.ac.id/'], 'name': 'Institut Sains dan Teknologi Al Kamal', 'state-province': None}, {'domains': ['itats.ac.id'], 'country': 'Indonesia', 'alpha_two_code': 'ID', 'web_pages': ['http://www.itats.ac.id/'], 'name': 'Institut Teknologi Adhi Tama Surabaya', 'state-province': None}, {'domains': ['itb.ac.id'], 'country': 'Indonesia', 'alpha_two_code': 'ID', 'web_pages': ['http://www.itb.ac.id/'], 'name': 'Institut Teknologi Bandung', 'state-province': None}, {'domains': ['its.ac.id'], 'country': 'Indonesia', 'alpha_two_code': 'ID', 'web_pages': ['http://www.its.ac.id/'], 'name': 'Institut Teknologi Sepuluh Nopember', 'state-province': None}, {'domains': ['janabadra.ac.id'], 'country': 'Indonesia', 'alpha_two_code': 'ID', 'web_pages': ['http://www.janabadra.ac.id/'], 'name': 'Universitas Janabadra', 'state-province': None}, {'domains': ['jayabaya.ac.id'], 'country': 'Indonesia', 'alpha_two_code': 'ID', 'web_pages': ['http://www.jayabaya.ac.id/'], 'name': 'Universitas Jayabaya', 'state-province': None}, {'domains': ['machung.ac.id'], 'country': 'Indonesia', 'alpha_two_code': 'ID', 'web_pages': ['http://www.machung.ac.id/'], 'name': 'Universitas Ma Chung', 'state-province': None}, {'domains': ['umaha.ac.id'], 'country': 'Indonesia', 'alpha_two_code': 'ID', 'web_pages': ['http://www.umaha.ac.id/'], 'name': 'Universitas Maarif Hasyim Latif', 'state-province': None}, {'domains': ['mahendradatta.org'], 'country': 'Indonesia', 'alpha_two_code': 'ID', 'web_pages': ['http://www.mahendradatta.org/'], 'name': 'Universitas Mahendradatta', 'state-province': None}, {'domains': ['um.ac.id'], 'country': 'Indonesia', 'alpha_two_code': 'ID', 'web_pages': ['http://www.um.ac.id/'], 'name': 'Universitas Negeri Malang', 'state-province': None}, {'domains': ['maranatha.edu'], 'country': 'Indonesia', 'alpha_two_code': 'ID', 'web_pages': ['http://www.maranatha.edu/'], 'name': 'Universitas Kristen Maranatha', 'state-province': None}, {'domains': ['mercubuana.ac.id'], 'country': 'Indonesia', 'alpha_two_code': 'ID', 'web_pages': ['http://www.mercubuana.ac.id/'], 'name': 'Universitas Mercu Buana', 'state-province': None}, {'domains': ['moestopo.ac.id'], 'country': 'Indonesia', 'alpha_two_code': 'ID', 'web_pages': ['http://www.moestopo.ac.id/'], 'name': 'Universitas Dr. R. Moestopo', 'state-province': None}, {'domains': ['narotama.ac.id'], 'country': 'Indonesia', 'alpha_two_code': 'ID', 'web_pages': ['http://www.narotama.ac.id/'], 'name': 'Universitas Narotama', 'state-province': None}, {'domains': ['nommensen.org'], 'country': 'Indonesia', 'alpha_two_code': 'ID', 'web_pages': ['http://www.nommensen.org/'], 'name': 'Universitas HKBP Nommensen', 'state-province': None}, {'domains': ['pancabudi.ac.id'], 'country': 'Indonesia', 'alpha_two_code': 'ID', 'web_pages': ['http://www.pancabudi.ac.id/'], 'name': 'Universitas Pembangunan Panca Budi', 'state-province': None}, {'domains': ['paramadina.ac.id'], 'country': 'Indonesia', 'alpha_two_code': 'ID', 'web_pages': ['http://www.paramadina.ac.id/'], 'name': 'Universitas Paramadina Mulya', 'state-province': None}, {'domains': ['pasim.ac.id'], 'country': 'Indonesia', 'alpha_two_code': 'ID', 'web_pages': ['http://www.pasim.ac.id/'], 'name': 'Universitas Nasional Pasim', 'state-province': None}, {'domains': ['perbanas.ac.id'], 'country': 'Indonesia', 'alpha_two_code': 'ID', 'web_pages': ['http://www.perbanas.ac.id/'], 'name': 'STIE Perbanas', 'state-province': None}, {'domains': ['perbanas.id'], 'country': 'Indonesia', 'alpha_two_code': 'ID', 'web_pages': ['http://perbanas.id/'], 'name': 'Perbanas Institute', 'state-province': None}, {'domains': ['petra.ac.id'], 'country': 'Indonesia', 'alpha_two_code': 'ID', 'web_pages': ['http://www.petra.ac.id/'], 'name': 'Universitas Kristen Petra', 'state-province': None}, {'domains': ['pmbs.ac.id'], 'country': 'Indonesia', 'alpha_two_code': 'ID', 'web_pages': ['http://www.pmbs.ac.id/'], 'name': 'Prasetiya Mulya Business School', 'state-province': None}, {'domains': ['pnj.ac.id'], 'country': 'Indonesia', 'alpha_two_code': 'ID', 'web_pages': ['http://www.pnj.ac.id/'], 'name': 'Politeknik Negeri Jakarta', 'state-province': None}, {'domains': ['pnl.ac.id'], 'country': 'Indonesia', 'alpha_two_code': 'ID', 'web_pages': ['http://www.pnl.ac.id/'], 'name': 'Politeknik Negeri Lhokseumawe', 'state-province': None}, {'domains': ['polban.ac.id'], 'country': 'Indonesia', 'alpha_two_code': 'ID', 'web_pages': ['http://www.polban.ac.id/'], 'name': 'Politeknik Negeri Bandung', 'state-province': None}, {'domains': ['polines.ac.id'], 'country': 'Indonesia', 'alpha_two_code': 'ID', 'web_pages': ['http://www.polines.ac.id/'], 'name': 'Politeknik Negeri Semarang', 'state-province': None}, {'domains': ['polinpdg.ac.id'], 'country': 'Indonesia', 'alpha_two_code': 'ID', 'web_pages': ['http://www.polinpdg.ac.id/'], 'name': 'Politeknik Negeri Padang', 'state-province': None}, {'domains': ['polnep.ac.id'], 'country': 'Indonesia', 'alpha_two_code': 'ID', 'web_pages': ['http://www.polnep.ac.id/'], 'name': 'Politeknik Negeri Pontianak', 'state-province': None}, {'domains': ['poltek-malang.ac.id'], 'country': 'Indonesia', 'alpha_two_code': 'ID', 'web_pages': ['http://www.poltek-malang.ac.id/'], 'name': 'Politeknik Negeri Malang', 'state-province': None}, {'domains': ['poltekpos.ac.id'], 'country': 'Indonesia', 'alpha_two_code': 'ID', 'web_pages': ['http://www.poltekpos.ac.id/'], 'name': 'Politeknik Pos Indonesia', 'state-province': None}, {'domains': ['poltesa.ac.id'], 'country': 'Indonesia', 'alpha_two_code': 'ID', 'web_pages': ['http://www.poltesa.ac.id/'], 'name': 'Politeknik Negeri Sambas', 'state-province': None}, {'domains': ['puterabatam.ac.id'], 'country': 'Indonesia', 'alpha_two_code': 'ID', 'web_pages': ['http://www.puterabatam.ac.id/'], 'name': 'Universitas Putera Batam', 'state-province': None}, {'domains': ['sarjanawiyata.ac.id'], 'country': 'Indonesia', 'alpha_two_code': 'ID', 'web_pages': ['http://www.sarjanawiyata.ac.id/'], 'name': 'Universitas Sarjanawiyata Tamansiswa', 'state-province': None}, {'domains': ['sgu.ac.id'], 'country': 'Indonesia', 'alpha_two_code': 'ID', 'web_pages': ['http://www.sgu.ac.id/'], 'name': 'Swiss German University', 'state-province': None}, {'domains': ['sinus.ac.id'], 'country': 'Indonesia', 'alpha_two_code': 'ID', 'web_pages': ['http://www.sinus.ac.id/'], 'name': 'STMIK Sinar Nusantara', 'state-province': None}, {'domains': ['stan.ac.id'], 'country': 'Indonesia', 'alpha_two_code': 'ID', 'web_pages': ['http://www.stan.ac.id/'], 'name': 'Sekolah Tinggi Akuntansi Negara (STAN)', 'state-province': None}, {'domains': ['stptrisakti.ac.id'], 'country': 'Indonesia', 'alpha_two_code': 'ID', 'web_pages': ['http://www.stptrisakti.ac.id/'], 'name': 'Trisakti Institute of Tourism', 'state-province': None}, {'domains': ['telkomuniversity.ac.id'], 'country': 'Indonesia', 'alpha_two_code': 'ID', 'web_pages': ['http://www.telkomuniversity.ac.id/'], 'name': 'Universitas Telkom', 'state-province': None}, {'domains': ['unklab.ac.id'], 'country': 'Indonesia', 'alpha_two_code': 'ID', 'web_pages': ['http://www.unklab.ac.id/'], 'name': 'Universitas Klabat', 'state-province': None}, {'domains': ['trisakti.ac.id'], 'country': 'Indonesia', 'alpha_two_code': 'ID', 'web_pages': ['http://www.trisakti.ac.id/'], 'name': 'Universitas Trisakti', 'state-province': None}, {'domains': ['uad.ac.id'], 'country': 'Indonesia', 'alpha_two_code': 'ID', 'web_pages': ['http://www.uad.ac.id/'], 'name': 'Universitas Ahmad Dahlan', 'state-province': None}, {'domains': ['uajy.ac.id'], 'country': 'Indonesia', 'alpha_two_code': 'ID', 'web_pages': ['http://www.uajy.ac.id/'], 'name': 'Universitas Atma Jaya Yogyakarta', 'state-province': None}, {'domains': ['ub.ac.id'], 'country': 'Indonesia', 'alpha_two_code': 'ID', 'web_pages': ['http://www.ub.ac.id/'], 'name': 'Universitas Brawijaya', 'state-province': None}, {'domains': ['ubaya.ac.id'], 'country': 'Indonesia', 'alpha_two_code': 'ID', 'web_pages': ['http://www.ubaya.ac.id/'], 'name': 'Universitas Surabaya', 'state-province': None}, {'domains': ['ubhara.ac.id'], 'country': 'Indonesia', 'alpha_two_code': 'ID', 'web_pages': ['http://www.ubhara.ac.id/'], 'name': 'Universitas Bhayangkara Surabaya', 'state-province': None}, {'domains': ['ubharajaya.ac.id'], 'country': 'Indonesia', 'alpha_two_code': 'ID', 'web_pages': ['http://www.ubharajaya.ac.id/'], 'name': 'Universitas Bhayangkara Jakarta Raya', 'state-province': None}, {'domains': ['ubm.ac.id'], 'country': 'Indonesia', 'alpha_two_code': 'ID', 'web_pages': ['http://www.ubm.ac.id/'], 'name': 'Universitas Bunda Mulia Jakarta', 'state-province': None}, {'domains': ['uda.ac.id'], 'country': 'Indonesia', 'alpha_two_code': 'ID', 'web_pages': ['http://www.uda.ac.id/'], 'name': 'Universitas Darma Agung', 'state-province': None}, {'domains': ['ugm.ac.id'], 'country': 'Indonesia', 'alpha_two_code': 'ID', 'web_pages': ['http://www.ugm.ac.id/'], 'name': 'Universitas Gadjah Mada', 'state-province': None}, {'domains': ['ui.ac.id'], 'country': 'Indonesia', 'alpha_two_code': 'ID', 'web_pages': ['http://www.ui.ac.id/'], 'name': 'Universitas Indonesia', 'state-province': None}, {'domains': ['uii.ac.id'], 'country': 'Indonesia', 'alpha_two_code': 'ID', 'web_pages': ['http://www.uii.ac.id/'], 'name': 'Universitas Islam Indonesia', 'state-province': None}, {'domains': ['uika-bogor.ac.id'], 'country': 'Indonesia', 'alpha_two_code': 'ID', 'web_pages': ['http://www.uika-bogor.ac.id/'], 'name': 'Universitas Ibn Khaldun Bogor', 'state-province': None}, {'domains': ['uinjkt.ac.id'], 'country': 'Indonesia', 'alpha_two_code': 'ID', 'web_pages': ['http://www.uinjkt.ac.id/'], 'name': 'Universitas Islam Jakarta', 'state-province': None}, {'domains': ['uir.ac.id'], 'country': 'Indonesia', 'alpha_two_code': 'ID', 'web_pages': ['http://www.uir.ac.id/'], 'name': 'Universitas Islam Riau', 'state-province': None}, {'domains': ['uisu.ac.id'], 'country': 'Indonesia', 'alpha_two_code': 'ID', 'web_pages': ['http://www.uisu.ac.id/'], 'name': 'Universitas Islam Sumatera Utara', 'state-province': None}, {'domains': ['ukdw.ac.id'], 'country': 'Indonesia', 'alpha_two_code': 'ID', 'web_pages': ['http://www.ukdw.ac.id/'], 'name': 'Universitas Kristen Duta Wacana', 'state-province': None}, {'domains': ['uki.ac.id'], 'country': 'Indonesia', 'alpha_two_code': 'ID', 'web_pages': ['http://www.uki.ac.id/'], 'name': 'Universitas Kristen Indonesia', 'state-province': None}, {'domains': ['ukit-tomohon.org'], 'country': 'Indonesia', 'alpha_two_code': 'ID', 'web_pages': ['http://www.ukit-tomohon.org/'], 'name': 'Universitas Kristen Indonesia Tomohon', 'state-province': None}, {'domains': ['ukrida.ac.id'], 'country': 'Indonesia', 'alpha_two_code': 'ID', 'web_pages': ['http://www.ukrida.ac.id/'], 'name': 'Universitas Kristen Krida Wacana', 'state-province': None}, {'domains': ['uksw.edu'], 'country': 'Indonesia', 'alpha_two_code': 'ID', 'web_pages': ['http://www.uksw.edu/'], 'name': 'Universitas Kristen Satya Wacana', 'state-province': None}, {'domains': ['umi.ac.id'], 'country': 'Indonesia', 'alpha_two_code': 'ID', 'web_pages': ['http://www.umi.ac.id/'], 'name': 'Universitas Muslim Indonesia', 'state-province': None}, {'domains': ['umi-mdn.edu'], 'country': 'Indonesia', 'alpha_two_code': 'ID', 'web_pages': ['http://www.umi-mdn.edu/'], 'name': 'Universitas Methodist Indonesia', 'state-province': None}, {'domains': ['umj.ac.id'], 'country': 'Indonesia', 'alpha_two_code': 'ID', 'web_pages': ['http://www.umj.ac.id/'], 'name': 'Universitas Muhammadiyah Jakarta', 'state-province': None}, {'domains': ['umk.ac.id'], 'country': 'Indonesia', 'alpha_two_code': 'ID', 'web_pages': ['http://www.umk.ac.id/'], 'name': 'Universitas Muria Kudus', 'state-province': None}, {'domains': ['umm.ac.id'], 'country': 'Indonesia', 'alpha_two_code': 'ID', 'web_pages': ['http://www.umm.ac.id/'], 'name': 'Universitas Muhammadiyah Malang', 'state-province': None}, {'domains': ['ummgl.ac.id'], 'country': 'Indonesia', 'alpha_two_code': 'ID', 'web_pages': ['http://www.ummgl.ac.id/'], 'name': 'Universitas Muhammadiyah Magelang', 'state-province': None}, {'domains': ['umsida.ac.id'], 'country': 'Indonesia', 'alpha_two_code': 'ID', 'web_pages': ['http://www.umsida.ac.id/'], 'name': 'Universitas Muhammadiyah Sidoarjo', 'state-province': None}, {'domains': ['ums.ac.id'], 'country': 'Indonesia', 'alpha_two_code': 'ID', 'web_pages': ['http://www.ums.ac.id/'], 'name': 'Universitas Muhammadiyah Surakarta', 'state-province': None}, {'domains': ['umsu.ac.id'], 'country': 'Indonesia', 'alpha_two_code': 'ID', 'web_pages': ['http://www.umsu.ac.id/'], 'name': 'Universitas Muhammadiyah Sumatra Utara', 'state-province': None}, {'domains': ['umy.ac.id'], 'country': 'Indonesia', 'alpha_two_code': 'ID', 'web_pages': ['http://www.umy.ac.id/'], 'name': 'Universitas Muhammadiyah Yogyakarta', 'state-province': None}, {'domains': ['unai.edu'], 'country': 'Indonesia', 'alpha_two_code': 'ID', 'web_pages': ['http://www.unai.edu/'], 'name': 'Universitas Advent Indonesia', 'state-province': None}, {'domains': ['unair.ac.id'], 'country': 'Indonesia', 'alpha_two_code': 'ID', 'web_pages': ['http://www.unair.ac.id/'], 'name': 'Universitas Airlangga', 'state-province': None}, {'domains': ['unand.ac.id'], 'country': 'Indonesia', 'alpha_two_code': 'ID', 'web_pages': ['http://www.unand.ac.id/'], 'name': 'Universitas Andalas', 'state-province': None}, {'domains': ['unas.ac.id'], 'country': 'Indonesia', 'alpha_two_code': 'ID', 'web_pages': ['http://www.unas.ac.id/'], 'name': 'Universitas Nasional Jakarta', 'state-province': None}, {'domains': ['uncen.ac.id'], 'country': 'Indonesia', 'alpha_two_code': 'ID', 'web_pages': ['http://www.uncen.ac.id/'], 'name': 'Universitas Cenderawasih', 'state-province': None}, {'domains': ['undana.ac.id'], 'country': 'Indonesia', 'alpha_two_code': 'ID', 'web_pages': ['http://www.undana.ac.id/'], 'name': 'Universitas Nusa Cendana', 'state-province': None}, {'domains': ['undip.ac.id'], 'country': 'Indonesia', 'alpha_two_code': 'ID', 'web_pages': ['http://www.undip.ac.id/'], 'name': 'Universitas Diponegoro', 'state-province': None}, {'domains': ['unej.ac.id'], 'country': 'Indonesia', 'alpha_two_code': 'ID', 'web_pages': ['http://www.unej.ac.id/'], 'name': 'Universitas Jember', 'state-province': None}, {'domains': ['unesa.ac.id'], 'country': 'Indonesia', 'alpha_two_code': 'ID', 'web_pages': ['http://www.unesa.ac.id/'], 'name': 'Universitas Negeri Surabaya', 'state-province': None}, {'domains': ['ung.ac.id'], 'country': 'Indonesia', 'alpha_two_code': 'ID', 'web_pages': ['http://www.ung.ac.id/'], 'name': 'Universitas Negeri Gorontalo', 'state-province': None}, {'domains': ['unhalu.ac.id'], 'country': 'Indonesia', 'alpha_two_code': 'ID', 'web_pages': ['http://www.unhalu.ac.id/'], 'name': 'Universitas Haluoleo', 'state-province': None}, {'domains': ['unhamzah.ac.id'], 'country': 'Indonesia', 'alpha_two_code': 'ID', 'web_pages': ['http://www.unhamzah.ac.id/'], 'name': 'Universitas Amir Hamzah', 'state-province': None}, {'domains': ['unhas.ac.id'], 'country': 'Indonesia', 'alpha_two_code': 'ID', 'web_pages': ['http://www.unhas.ac.id/'], 'name': 'Universitas Hasanuddin', 'state-province': None}, {'domains': ['unib.ac.id'], 'country': 'Indonesia', 'alpha_two_code': 'ID', 'web_pages': ['http://www.unib.ac.id/'], 'name': 'Universitas Bengkulu', 'state-province': None}, {'domains': ['unigoro.ac.id'], 'country': 'Indonesia', 'alpha_two_code': 'ID', 'web_pages': ['http://www.unigoro.ac.id/'], 'name': 'Universitas Bojonegoro', 'state-province': None}, {'domains': ['unika.ac.id'], 'country': 'Indonesia', 'alpha_two_code': 'ID', 'web_pages': ['http://www.unika.ac.id/'], 'name': 'Universitas Katolik Soegijapranoto', 'state-province': None}, {'domains': ['unikal.ac.id'], 'country': 'Indonesia', 'alpha_two_code': 'ID', 'web_pages': ['http://www.unikal.ac.id/'], 'name': 'Universitas Pekalongan', 'state-province': None}, {'domains': ['unik-kediri.ac.id'], 'country': 'Indonesia', 'alpha_two_code': 'ID', 'web_pages': ['http://www.unik-kediri.ac.id/'], 'name': 'Universitas Kediri', 'state-province': None}, {'domains': ['unikom.ac.id'], 'country': 'Indonesia', 'alpha_two_code': 'ID', 'web_pages': ['http://www.unikom.ac.id/'], 'name': 'Universitas Komputer Indonesia', 'state-province': None}, {'domains': ['unila.ac.id'], 'country': 'Indonesia', 'alpha_two_code': 'ID', 'web_pages': ['http://www.unila.ac.id/'], 'name': 'Universitas Lampung', 'state-province': None}, {'domains': ['unilak.ac.id'], 'country': 'Indonesia', 'alpha_two_code': 'ID', 'web_pages': ['http://unilak.ac.id/'], 'name': 'Universitas Lancang Kuning', 'state-province': None}, {'domains': ['unima.ac.id'], 'country': 'Indonesia', 'alpha_two_code': 'ID', 'web_pages': ['http://www.unima.ac.id/'], 'name': 'Universitas Negeri Manado', 'state-province': None}, {'domains': ['unimed.ac.id'], 'country': 'Indonesia', 'alpha_two_code': 'ID', 'web_pages': ['http://www.unimed.ac.id/'], 'name': 'Universitas Negeri Medan', 'state-province': None}, {'domains': ['uninus.ac.id'], 'country': 'Indonesia', 'alpha_two_code': 'ID', 'web_pages': ['http://www.uninus.ac.id/'], 'name': 'Universitas Islam Nusantara', 'state-province': None}, {'domains': ['unipdu.ac.id'], 'country': 'Indonesia', 'alpha_two_code': 'ID', 'web_pages': ['http://www.unipdu.ac.id/'], 'name': 'Universitas Pesantren Darul Ulum Jombang', 'state-province': None}, {'domains': ['unira.ac.id'], 'country': 'Indonesia', 'alpha_two_code': 'ID', 'web_pages': ['http://www.unira.ac.id/'], 'name': 'Universitas Madura', 'state-province': None}, {'domains': ['unisba.ac.id'], 'country': 'Indonesia', 'alpha_two_code': 'ID', 'web_pages': ['http://www.unisba.ac.id/'], 'name': 'Universitas Islam Bandung', 'state-province': None}, {'domains': ['unisma.ac.id'], 'country': 'Indonesia', 'alpha_two_code': 'ID', 'web_pages': ['http://www.unisma.ac.id/'], 'name': 'Universitas Islam Malang', 'state-province': None}, {'domains': ['unismuh.ac.id'], 'country': 'Indonesia', 'alpha_two_code': 'ID', 'web_pages': ['http://www.unismuh.ac.id/'], 'name': 'Universitas Muhammadiyah Makassar', 'state-province': None}, {'domains': ['unisri.ac.id'], 'country': 'Indonesia', 'alpha_two_code': 'ID', 'web_pages': ['http://www.unisri.ac.id/'], 'name': 'Universitas Slamet Riyadi Surakarta', 'state-province': None}, {'domains': ['unissula.ac.id'], 'country': 'Indonesia', 'alpha_two_code': 'ID', 'web_pages': ['http://www.unissula.ac.id/'], 'name': 'Universitas Islam Sultan Agung', 'state-province': None}, {'domains': ['unistangerang.ac.id'], 'country': 'Indonesia', 'alpha_two_code': 'ID', 'web_pages': ['http://www.unistangerang.ac.id/'], 'name': 'Universitas Islam Syekh-Yusuf', 'state-province': None}, {'domains': ['unitomo.ac.id'], 'country': 'Indonesia', 'alpha_two_code': 'ID', 'web_pages': ['http://www.unitomo.ac.id/'], 'name': 'Unitomo Surabaya', 'state-province': None}, {'domains': ['universitas-trilogi.ac.id'], 'country': 'Indonesia', 'alpha_two_code': 'ID', 'web_pages': ['http://www.universitas-trilogi.ac.id/'], 'name': 'Universitas Trilogi', 'state-province': None}, {'domains': ['trunojoyo.ac.id'], 'country': 'Indonesia', 'alpha_two_code': 'ID', 'web_pages': ['http://www.trunojoyo.ac.id/'], 'name': 'Universitas Trunojoyo Madura', 'state-province': None}, {'domains': ['univpancasila.ac.id'], 'country': 'Indonesia', 'alpha_two_code': 'ID', 'web_pages': ['http://www.univpancasila.ac.id/'], 'name': 'Universitas Pancasila', 'state-province': None}, {'domains': ['unipasby.ac.id'], 'country': 'Indonesia', 'alpha_two_code': 'ID', 'web_pages': ['http://www.unipasby.ac.id/'], 'name': 'Universitas PGRI Adi Buana Surabaya', 'state-province': None}, {'domains': ['unja.ac.id'], 'country': 'Indonesia', 'alpha_two_code': 'ID', 'web_pages': ['http://www.unja.ac.id/'], 'name': 'Universitas Jambi', 'state-province': None}, {'domains': ['unj.ac.id'], 'country': 'Indonesia', 'alpha_two_code': 'ID', 'web_pages': ['http://www.unj.ac.id/'], 'name': 'Universitas Negeri Jakarta', 'state-province': None}, {'domains': ['unjani.ac.id'], 'country': 'Indonesia', 'alpha_two_code': 'ID', 'web_pages': ['http://www.unjani.ac.id/'], 'name': 'Universitas Jenderal Achmad Yani', 'state-province': None}, {'domains': ['unkhair.ac.id'], 'country': 'Indonesia', 'alpha_two_code': 'ID', 'web_pages': ['http://www.unkhair.ac.id/'], 'name': 'Universitas Khairun', 'state-province': None}, {'domains': ['unkris.ac.id'], 'country': 'Indonesia', 'alpha_two_code': 'ID', 'web_pages': ['http://www.unkris.ac.id/'], 'name': 'Universitas Krisnadwipayana', 'state-province': None}, {'domains': ['unlam.ac.id'], 'country': 'Indonesia', 'alpha_two_code': 'ID', 'web_pages': ['http://www.unlam.ac.id/'], 'name': 'Universitas Lambung Mangkurat', 'state-province': None}, {'domains': ['unm.ac.id'], 'country': 'Indonesia', 'alpha_two_code': 'ID', 'web_pages': ['http://www.unm.ac.id/'], 'name': 'Universitas Negeri Makassar', 'state-province': None}, {'domains': ['unmas.org'], 'country': 'Indonesia', 'alpha_two_code': 'ID', 'web_pages': ['http://www.unmas.org/'], 'name': 'Universitas Mahasaraswati Denpasar', 'state-province': None}, {'domains': ['unmer.ac.id'], 'country': 'Indonesia', 'alpha_two_code': 'ID', 'web_pages': ['http://www.unmer.ac.id/'], 'name': 'Universitas Merdeka Malang', 'state-province': None}, {'domains': ['unmer-madiun.ac.id'], 'country': 'Indonesia', 'alpha_two_code': 'ID', 'web_pages': ['http://www.unmer-madiun.ac.id/'], 'name': 'Universitas Merdeka Madiun', 'state-province': None}, {'domains': ['unmuhjember.ac.id'], 'country': 'Indonesia', 'alpha_two_code': 'ID', 'web_pages': ['http://www.unmuhjember.ac.id/'], 'name': 'Universitas Muhammadiyah Jember', 'state-province': None}, {'domains': ['unmuhmataram.com'], 'country': 'Indonesia', 'alpha_two_code': 'ID', 'web_pages': ['http://www.unmuhmataram.com/'], 'name': 'Universitas Muhammadiyah Mataram', 'state-province': None}, {'domains': ['unmul.ac.id'], 'country': 'Indonesia', 'alpha_two_code': 'ID', 'web_pages': ['http://www.unmul.ac.id/'], 'name': 'Universitas Mulawarman', 'state-province': None}, {'domains': ['wicida.ac.id'], 'country': 'Indonesia', 'alpha_two_code': 'ID', 'web_pages': ['http://www.wicida.ac.id/'], 'name': 'STMIK Widya Cipta Dharma', 'state-province': None}, {'domains': ['unnes.ac.id'], 'country': 'Indonesia', 'alpha_two_code': 'ID', 'web_pages': ['http://www.unnes.ac.id/'], 'name': 'Universitas Negeri Semarang', 'state-province': None}, {'domains': ['unp.ac.id'], 'country': 'Indonesia', 'alpha_two_code': 'ID', 'web_pages': ['http://www.unp.ac.id/'], 'name': 'Universitas Negeri Padang', 'state-province': None}, {'domains': ['unpad.ac.id'], 'country': 'Indonesia', 'alpha_two_code': 'ID', 'web_pages': ['http://www.unpad.ac.id/'], 'name': 'Universitas Padjadjaran', 'state-province': None}, {'domains': ['unpak.ac.id'], 'country': 'Indonesia', 'alpha_two_code': 'ID', 'web_pages': ['http://www.unpak.ac.id/'], 'name': 'Universitas Pakuan', 'state-province': None}, {'domains': ['unpar.ac.id'], 'country': 'Indonesia', 'alpha_two_code': 'ID', 'web_pages': ['http://www.unpar.ac.id/'], 'name': 'Universitas Katolik Parahyangan', 'state-province': None}, {'domains': ['unpas.ac.id'], 'country': 'Indonesia', 'alpha_two_code': 'ID', 'web_pages': ['http://www.unpas.ac.id/'], 'name': 'Universitas Pasundan', 'state-province': None}, {'domains': ['unpatti.ac.id'], 'country': 'Indonesia', 'alpha_two_code': 'ID', 'web_pages': ['http://www.unpatti.ac.id/'], 'name': 'Universitas Pattimura', 'state-province': None}, {'domains': ['unr.ac.id'], 'country': 'Indonesia', 'alpha_two_code': 'ID', 'web_pages': ['http://www.unr.ac.id/'], 'name': 'Universitas Ngurah Rai', 'state-province': None}, {'domains': ['unram.ac.id'], 'country': 'Indonesia', 'alpha_two_code': 'ID', 'web_pages': ['http://www.unram.ac.id/'], 'name': 'Universitas Mataram', 'state-province': None}, {'domains': ['unri.ac.id'], 'country': 'Indonesia', 'alpha_two_code': 'ID', 'web_pages': ['http://www.unri.ac.id/'], 'name': 'Universitas Riau', 'state-province': None}, {'domains': ['uns.ac.id'], 'country': 'Indonesia', 'alpha_two_code': 'ID', 'web_pages': ['http://www.uns.ac.id/'], 'name': 'Universitas Sebelas Maret', 'state-province': None}, {'domains': ['unsada.ac.id'], 'country': 'Indonesia', 'alpha_two_code': 'ID', 'web_pages': ['http://www.unsada.ac.id/'], 'name': 'Universitas Darma Persada', 'state-province': None}, {'domains': ['unsil.ac.id'], 'country': 'Indonesia', 'alpha_two_code': 'ID', 'web_pages': ['http://www.unsil.ac.id/'], 'name': 'Universitas Siliwangi', 'state-province': None}, {'domains': ['unsoed.ac.id'], 'country': 'Indonesia', 'alpha_two_code': 'ID', 'web_pages': ['http://www.unsoed.ac.id/'], 'name': 'Universitas Jenderal Soedirman', 'state-province': None}, {'domains': ['unsrat.ac.id'], 'country': 'Indonesia', 'alpha_two_code': 'ID', 'web_pages': ['http://www.unsrat.ac.id/'], 'name': 'Universitas Sam Ratulangi', 'state-province': None}, {'domains': ['unsri.ac.id'], 'country': 'Indonesia', 'alpha_two_code': 'ID', 'web_pages': ['http://www.unsri.ac.id/'], 'name': 'Universitas Sriwijaya', 'state-province': None}, {'domains': ['unswagati-crb.ac.id'], 'country': 'Indonesia', 'alpha_two_code': 'ID', 'web_pages': ['http://www.unswagati-crb.ac.id/'], 'name': 'Universitas Swadaya Gunung Djati', 'state-province': None}, {'domains': ['unsyiah.ac.id'], 'country': 'Indonesia', 'alpha_two_code': 'ID', 'web_pages': ['http://www.unsyiah.ac.id/'], 'name': 'Universitas Syiah Kuala', 'state-province': None}, {'domains': ['untad.ac.id'], 'country': 'Indonesia', 'alpha_two_code': 'ID', 'web_pages': ['http://www.untad.ac.id/'], 'name': 'Universitas Tadulako', 'state-province': None}, {'domains': ['untag.ac.id'], 'country': 'Indonesia', 'alpha_two_code': 'ID', 'web_pages': ['http://www.untag.ac.id/'], 'name': 'Universitas 17 Agustus 1945 Surabaya', 'state-province': None}, {'domains': ['untag-banyuwangi.ac.id'], 'country': 'Indonesia', 'alpha_two_code': 'ID', 'web_pages': ['http://www.untag-banyuwangi.ac.id/'], 'name': 'Universitas 17 Agustus 1945 Banyuwangi', 'state-province': None}, {'domains': ['untagcirebon.info'], 'country': 'Indonesia', 'alpha_two_code': 'ID', 'web_pages': ['http://www.untagcirebon.info/'], 'name': 'Universitas 17 Agustus 1945 Cirebon', 'state-province': None}, {'domains': ['untag-jkt.org'], 'country': 'Indonesia', 'alpha_two_code': 'ID', 'web_pages': ['http://www.untag-jkt.org/'], 'name': 'Universitas 17 Agustus 1945 Jakarta', 'state-province': None}, {'domains': ['untag-smd.ac.id'], 'country': 'Indonesia', 'alpha_two_code': 'ID', 'web_pages': ['http://www.untag-smd.ac.id/'], 'name': 'Universitas 17 Agustus 1945 Samarinda', 'state-province': None}, {'domains': ['untagsmg.ac.id'], 'country': 'Indonesia', 'alpha_two_code': 'ID', 'web_pages': ['http://www.untagsmg.ac.id/'], 'name': 'Universitas 17 Agustus 1945 Semarang', 'state-province': None}, {'domains': ['untan.ac.id'], 'country': 'Indonesia', 'alpha_two_code': 'ID', 'web_pages': ['http://www.untan.ac.id/'], 'name': 'Universitas Tanjungpura', 'state-province': None}, {'domains': ['untar.ac.id'], 'country': 'Indonesia', 'alpha_two_code': 'ID', 'web_pages': ['http://www.untar.ac.id/'], 'name': 'Universitas Tarumanagara', 'state-province': None}, {'domains': ['untirta.ac.id'], 'country': 'Indonesia', 'alpha_two_code': 'ID', 'web_pages': ['http://www.untirta.ac.id/'], 'name': 'Universitas Sultan Ageng Tirtayasa', 'state-province': None}, {'domains': ['unud.ac.id'], 'country': 'Indonesia', 'alpha_two_code': 'ID', 'web_pages': ['http://www.unud.ac.id/'], 'name': 'Universitas Udayana', 'state-province': None}, {'domains': ['unwiku.ac.id'], 'country': 'Indonesia', 'alpha_two_code': 'ID', 'web_pages': ['http://www.unwiku.ac.id/'], 'name': 'Universitas Wijaya Kusuma Purwokerto', 'state-province': None}, {'domains': ['uny.ac.id'], 'country': 'Indonesia', 'alpha_two_code': 'ID', 'web_pages': ['http://www.uny.ac.id/'], 'name': 'Universitas Negeri Yogyakarta', 'state-province': None}, {'domains': ['up45.ac.id'], 'country': 'Indonesia', 'alpha_two_code': 'ID', 'web_pages': ['http://www.up45.ac.id/'], 'name': 'Universitas Proklamasi 45', 'state-province': None}, {'domains': ['uph.edu'], 'country': 'Indonesia', 'alpha_two_code': 'ID', 'web_pages': ['http://www.uph.edu/'], 'name': 'Universitas Pelita Harapan', 'state-province': None}, {'domains': ['upi.edu'], 'country': 'Indonesia', 'alpha_two_code': 'ID', 'web_pages': ['http://www.upi.edu/'], 'name': 'Universitas Pendidikan Indonesia', 'state-province': None}, {'domains': ['upnvj.ac.id'], 'country': 'Indonesia', 'alpha_two_code': 'ID', 'web_pages': ['http://www.upnvj.ac.id/'], 'name': 'Universitas Pembangunan Nasional \"Veteran\" Jakarta', 'state-province': None}, {'domains': ['upnjatim.ac.id'], 'country': 'Indonesia', 'alpha_two_code': 'ID', 'web_pages': ['http://www.upnjatim.ac.id/'], 'name': 'Universitas Pembangunan Nasional \"Veteran\" Jawa Timur', 'state-province': None}, {'domains': ['upnyk.ac.id'], 'country': 'Indonesia', 'alpha_two_code': 'ID', 'web_pages': ['http://www.upnyk.ac.id/'], 'name': 'Universitas Pembangunan Nasional \"Veteran\" Yogyakarta', 'state-province': None}, {'domains': ['upr.ac.id'], 'country': 'Indonesia', 'alpha_two_code': 'ID', 'web_pages': ['http://www.upr.ac.id/'], 'name': 'Universitas Palangka Raya', 'state-province': None}, {'domains': ['upstegal.ac.id'], 'country': 'Indonesia', 'alpha_two_code': 'ID', 'web_pages': ['http://www.upstegal.ac.id/'], 'name': 'Universitas Pancasakti Tegal', 'state-province': None}, {'domains': ['usd.ac.id'], 'country': 'Indonesia', 'alpha_two_code': 'ID', 'web_pages': ['http://www.usd.ac.id/'], 'name': 'Universitas Sanata Dharma', 'state-province': None}, {'domains': ['usi.ac.id'], 'country': 'Indonesia', 'alpha_two_code': 'ID', 'web_pages': ['http://www.usi.ac.id/'], 'name': 'Universitas Simalungun', 'state-province': None}, {'domains': ['usm.ac.id'], 'country': 'Indonesia', 'alpha_two_code': 'ID', 'web_pages': ['http://www.usm.ac.id/'], 'name': 'Universitas Semarang', 'state-province': None}, {'domains': ['usu.ac.id'], 'country': 'Indonesia', 'alpha_two_code': 'ID', 'web_pages': ['http://www.usu.ac.id/'], 'name': 'Universitas Sumatera Utara', 'state-province': None}, {'domains': ['ut.ac.id'], 'country': 'Indonesia', 'alpha_two_code': 'ID', 'web_pages': ['http://www.ut.ac.id/'], 'name': 'Universitas Terbuka Indonesia', 'state-province': None}, {'domains': ['untidar.ac.id'], 'country': 'Indonesia', 'alpha_two_code': 'ID', 'web_pages': ['http://www.untidar.ac.id/'], 'name': 'Universitas Tidar Magelang', 'state-province': None}, {'domains': ['utp.ac.id'], 'country': 'Indonesia', 'alpha_two_code': 'ID', 'web_pages': ['http://www.utp.ac.id/'], 'name': 'Universitas Tunas Pembangunan', 'state-province': None}, {'domains': ['widyagama.ac.id'], 'country': 'Indonesia', 'alpha_two_code': 'ID', 'web_pages': ['http://www.widyagama.ac.id/'], 'name': 'Universitas Widya Gama Malang', 'state-province': None}, {'domains': ['widyakarya.ac.id'], 'country': 'Indonesia', 'alpha_two_code': 'ID', 'web_pages': ['http://www.widyakarya.ac.id/'], 'name': 'Universitas Katolik Widya Karya', 'state-province': None}, {'domains': ['widyatama.ac.id'], 'country': 'Indonesia', 'alpha_two_code': 'ID', 'web_pages': ['http://www.widyatama.ac.id/'], 'name': 'Universitas Widyatama', 'state-province': None}, {'domains': ['wijayakusumasby.ac.id'], 'country': 'Indonesia', 'alpha_two_code': 'ID', 'web_pages': ['http://www.wijayakusumasby.ac.id/'], 'name': 'Universitas Wijaya Kusuma Surabaya', 'state-province': None}, {'domains': ['wima.ac.id'], 'country': 'Indonesia', 'alpha_two_code': 'ID', 'web_pages': ['http://www.wima.ac.id/'], 'name': 'Universitas Katolik Widya Manadala', 'state-province': None}, {'domains': ['wisnuwardhana.ac.id'], 'country': 'Indonesia', 'alpha_two_code': 'ID', 'web_pages': ['http://www.wisnuwardhana.ac.id/'], 'name': 'Universitas Wisnuwardhana', 'state-province': None}, {'domains': ['yai.ac.id'], 'country': 'Indonesia', 'alpha_two_code': 'ID', 'web_pages': ['http://www.yai.ac.id/'], 'name': 'Universitas Persada Indonesia Y.A.I', 'state-province': None}, {'domains': ['yarsi.ac.id'], 'country': 'Indonesia', 'alpha_two_code': 'ID', 'web_pages': ['http://www.yarsi.ac.id/'], 'name': 'Universitas Yarsi', 'state-province': None}, {'domains': ['udb.ac.id'], 'country': 'Indonesia', 'alpha_two_code': 'ID', 'web_pages': ['https://udb.ac.id/'], 'name': 'Duta Bangsa University', 'state-province': None}, {'domains': ['akfaryarsiptk.ac.id'], 'country': 'Indonesia', 'alpha_two_code': 'ID', 'web_pages': ['https://akfaryarsiptk.ac.id'], 'name': 'Akademi Farmasi Yarsis Pekanbaru', 'state-province': None}]\n"
     ]
    }
   ],
   "source": [
    "# Extract Data from Data Source\n",
    "api_url = 'http://universities.hipolabs.com/search?country=Indonesia'\n",
    "data = requests.get(api_url).json()\n",
    "print(data)"
   ]
  },
  {
   "cell_type": "code",
   "execution_count": 3,
   "metadata": {},
   "outputs": [
    {
     "data": {
      "text/html": [
       "<div>\n",
       "<style scoped>\n",
       "    .dataframe tbody tr th:only-of-type {\n",
       "        vertical-align: middle;\n",
       "    }\n",
       "\n",
       "    .dataframe tbody tr th {\n",
       "        vertical-align: top;\n",
       "    }\n",
       "\n",
       "    .dataframe thead th {\n",
       "        text-align: right;\n",
       "    }\n",
       "</style>\n",
       "<table border=\"1\" class=\"dataframe\">\n",
       "  <thead>\n",
       "    <tr style=\"text-align: right;\">\n",
       "      <th></th>\n",
       "      <th>domains</th>\n",
       "      <th>country</th>\n",
       "      <th>alpha_two_code</th>\n",
       "      <th>web_pages</th>\n",
       "      <th>name</th>\n",
       "      <th>state-province</th>\n",
       "    </tr>\n",
       "  </thead>\n",
       "  <tbody>\n",
       "    <tr>\n",
       "      <th>0</th>\n",
       "      <td>[akfarmitseda.ac.id]</td>\n",
       "      <td>Indonesia</td>\n",
       "      <td>ID</td>\n",
       "      <td>[http://www.akfarmitseda.ac.id/]</td>\n",
       "      <td>Akademi Farmasi Mitra Sehat Mandiri Sidoarjo</td>\n",
       "      <td>None</td>\n",
       "    </tr>\n",
       "    <tr>\n",
       "      <th>1</th>\n",
       "      <td>[akprind.ac.id]</td>\n",
       "      <td>Indonesia</td>\n",
       "      <td>ID</td>\n",
       "      <td>[http://www.akprind.ac.id/]</td>\n",
       "      <td>Institut Sains &amp; Teknologi Akprind</td>\n",
       "      <td>None</td>\n",
       "    </tr>\n",
       "    <tr>\n",
       "      <th>2</th>\n",
       "      <td>[amikom.ac.id]</td>\n",
       "      <td>Indonesia</td>\n",
       "      <td>ID</td>\n",
       "      <td>[http://www.amikom.ac.id/]</td>\n",
       "      <td>STMIK AMIKOM Yogyakarta</td>\n",
       "      <td>None</td>\n",
       "    </tr>\n",
       "    <tr>\n",
       "      <th>3</th>\n",
       "      <td>[stikesrsanwarmedika.ac.id]</td>\n",
       "      <td>Indonesia</td>\n",
       "      <td>ID</td>\n",
       "      <td>[http://www.stikesrsanwarmedika.ac.id/]</td>\n",
       "      <td>STIKES RS Anwar Medika</td>\n",
       "      <td>None</td>\n",
       "    </tr>\n",
       "    <tr>\n",
       "      <th>4</th>\n",
       "      <td>[atmajaya.ac.id]</td>\n",
       "      <td>Indonesia</td>\n",
       "      <td>ID</td>\n",
       "      <td>[http://www.atmajaya.ac.id/]</td>\n",
       "      <td>Universitas Katolik Indonesia Atma Jaya</td>\n",
       "      <td>None</td>\n",
       "    </tr>\n",
       "    <tr>\n",
       "      <th>...</th>\n",
       "      <td>...</td>\n",
       "      <td>...</td>\n",
       "      <td>...</td>\n",
       "      <td>...</td>\n",
       "      <td>...</td>\n",
       "      <td>...</td>\n",
       "    </tr>\n",
       "    <tr>\n",
       "      <th>186</th>\n",
       "      <td>[wisnuwardhana.ac.id]</td>\n",
       "      <td>Indonesia</td>\n",
       "      <td>ID</td>\n",
       "      <td>[http://www.wisnuwardhana.ac.id/]</td>\n",
       "      <td>Universitas Wisnuwardhana</td>\n",
       "      <td>None</td>\n",
       "    </tr>\n",
       "    <tr>\n",
       "      <th>187</th>\n",
       "      <td>[yai.ac.id]</td>\n",
       "      <td>Indonesia</td>\n",
       "      <td>ID</td>\n",
       "      <td>[http://www.yai.ac.id/]</td>\n",
       "      <td>Universitas Persada Indonesia Y.A.I</td>\n",
       "      <td>None</td>\n",
       "    </tr>\n",
       "    <tr>\n",
       "      <th>188</th>\n",
       "      <td>[yarsi.ac.id]</td>\n",
       "      <td>Indonesia</td>\n",
       "      <td>ID</td>\n",
       "      <td>[http://www.yarsi.ac.id/]</td>\n",
       "      <td>Universitas Yarsi</td>\n",
       "      <td>None</td>\n",
       "    </tr>\n",
       "    <tr>\n",
       "      <th>189</th>\n",
       "      <td>[udb.ac.id]</td>\n",
       "      <td>Indonesia</td>\n",
       "      <td>ID</td>\n",
       "      <td>[https://udb.ac.id/]</td>\n",
       "      <td>Duta Bangsa University</td>\n",
       "      <td>None</td>\n",
       "    </tr>\n",
       "    <tr>\n",
       "      <th>190</th>\n",
       "      <td>[akfaryarsiptk.ac.id]</td>\n",
       "      <td>Indonesia</td>\n",
       "      <td>ID</td>\n",
       "      <td>[https://akfaryarsiptk.ac.id]</td>\n",
       "      <td>Akademi Farmasi Yarsis Pekanbaru</td>\n",
       "      <td>None</td>\n",
       "    </tr>\n",
       "  </tbody>\n",
       "</table>\n",
       "<p>191 rows × 6 columns</p>\n",
       "</div>"
      ],
      "text/plain": [
       "                         domains    country alpha_two_code  \\\n",
       "0           [akfarmitseda.ac.id]  Indonesia             ID   \n",
       "1                [akprind.ac.id]  Indonesia             ID   \n",
       "2                 [amikom.ac.id]  Indonesia             ID   \n",
       "3    [stikesrsanwarmedika.ac.id]  Indonesia             ID   \n",
       "4               [atmajaya.ac.id]  Indonesia             ID   \n",
       "..                           ...        ...            ...   \n",
       "186        [wisnuwardhana.ac.id]  Indonesia             ID   \n",
       "187                  [yai.ac.id]  Indonesia             ID   \n",
       "188                [yarsi.ac.id]  Indonesia             ID   \n",
       "189                  [udb.ac.id]  Indonesia             ID   \n",
       "190        [akfaryarsiptk.ac.id]  Indonesia             ID   \n",
       "\n",
       "                                   web_pages  \\\n",
       "0           [http://www.akfarmitseda.ac.id/]   \n",
       "1                [http://www.akprind.ac.id/]   \n",
       "2                 [http://www.amikom.ac.id/]   \n",
       "3    [http://www.stikesrsanwarmedika.ac.id/]   \n",
       "4               [http://www.atmajaya.ac.id/]   \n",
       "..                                       ...   \n",
       "186        [http://www.wisnuwardhana.ac.id/]   \n",
       "187                  [http://www.yai.ac.id/]   \n",
       "188                [http://www.yarsi.ac.id/]   \n",
       "189                     [https://udb.ac.id/]   \n",
       "190            [https://akfaryarsiptk.ac.id]   \n",
       "\n",
       "                                             name state-province  \n",
       "0    Akademi Farmasi Mitra Sehat Mandiri Sidoarjo           None  \n",
       "1              Institut Sains & Teknologi Akprind           None  \n",
       "2                         STMIK AMIKOM Yogyakarta           None  \n",
       "3                          STIKES RS Anwar Medika           None  \n",
       "4         Universitas Katolik Indonesia Atma Jaya           None  \n",
       "..                                            ...            ...  \n",
       "186                     Universitas Wisnuwardhana           None  \n",
       "187           Universitas Persada Indonesia Y.A.I           None  \n",
       "188                             Universitas Yarsi           None  \n",
       "189                        Duta Bangsa University           None  \n",
       "190              Akademi Farmasi Yarsis Pekanbaru           None  \n",
       "\n",
       "[191 rows x 6 columns]"
      ]
     },
     "execution_count": 3,
     "metadata": {},
     "output_type": "execute_result"
    }
   ],
   "source": [
    "# Transform Data (tabulate, clean, manipulate, etc)\n",
    "df = pd.DataFrame(data)\n",
    "df"
   ]
  },
  {
   "cell_type": "code",
   "execution_count": 4,
   "metadata": {},
   "outputs": [
    {
     "name": "stdout",
     "output_type": "stream",
     "text": [
      "Total number of universities in Indonesia: 191\n"
     ]
    }
   ],
   "source": [
    "print(f'Total number of universities in Indonesia: {len(data)}')"
   ]
  },
  {
   "cell_type": "code",
   "execution_count": 5,
   "metadata": {},
   "outputs": [
    {
     "name": "stdout",
     "output_type": "stream",
     "text": [
      "Total number of universities in Bandung: 3\n"
     ]
    }
   ],
   "source": [
    "df = df[df['name'].str.contains('Bandung')]\n",
    "print(f'Total number of universities in Bandung: {len(df)}')"
   ]
  },
  {
   "cell_type": "code",
   "execution_count": 6,
   "metadata": {},
   "outputs": [
    {
     "name": "stderr",
     "output_type": "stream",
     "text": [
      "/var/folders/gz/wj6dm5yx3xxbp8jyvnvdp9l00000gp/T/ipykernel_27191/1169658164.py:1: SettingWithCopyWarning: \n",
      "A value is trying to be set on a copy of a slice from a DataFrame.\n",
      "Try using .loc[row_indexer,col_indexer] = value instead\n",
      "\n",
      "See the caveats in the documentation: https://pandas.pydata.org/pandas-docs/stable/user_guide/indexing.html#returning-a-view-versus-a-copy\n",
      "  df['domains'] = [','.join(map(str,l)) for l in df['domains']]\n",
      "/var/folders/gz/wj6dm5yx3xxbp8jyvnvdp9l00000gp/T/ipykernel_27191/1169658164.py:2: SettingWithCopyWarning: \n",
      "A value is trying to be set on a copy of a slice from a DataFrame.\n",
      "Try using .loc[row_indexer,col_indexer] = value instead\n",
      "\n",
      "See the caveats in the documentation: https://pandas.pydata.org/pandas-docs/stable/user_guide/indexing.html#returning-a-view-versus-a-copy\n",
      "  df['web_pages'] = [','.join(map(str,l)) for l in df['web_pages']]\n"
     ]
    }
   ],
   "source": [
    "df['domains'] = [','.join(map(str,l)) for l in df['domains']]\n",
    "df['web_pages'] = [','.join(map(str,l)) for l in df['web_pages']]\n",
    "df = df.reset_index(drop=True)\n",
    "df = df[['domains', 'web_pages', 'country', 'name']]"
   ]
  },
  {
   "cell_type": "code",
   "execution_count": 7,
   "metadata": {},
   "outputs": [
    {
     "data": {
      "text/html": [
       "<div>\n",
       "<style scoped>\n",
       "    .dataframe tbody tr th:only-of-type {\n",
       "        vertical-align: middle;\n",
       "    }\n",
       "\n",
       "    .dataframe tbody tr th {\n",
       "        vertical-align: top;\n",
       "    }\n",
       "\n",
       "    .dataframe thead th {\n",
       "        text-align: right;\n",
       "    }\n",
       "</style>\n",
       "<table border=\"1\" class=\"dataframe\">\n",
       "  <thead>\n",
       "    <tr style=\"text-align: right;\">\n",
       "      <th></th>\n",
       "      <th>domains</th>\n",
       "      <th>web_pages</th>\n",
       "      <th>country</th>\n",
       "      <th>name</th>\n",
       "    </tr>\n",
       "  </thead>\n",
       "  <tbody>\n",
       "    <tr>\n",
       "      <th>0</th>\n",
       "      <td>itb.ac.id</td>\n",
       "      <td>http://www.itb.ac.id/</td>\n",
       "      <td>Indonesia</td>\n",
       "      <td>Institut Teknologi Bandung</td>\n",
       "    </tr>\n",
       "    <tr>\n",
       "      <th>1</th>\n",
       "      <td>polban.ac.id</td>\n",
       "      <td>http://www.polban.ac.id/</td>\n",
       "      <td>Indonesia</td>\n",
       "      <td>Politeknik Negeri Bandung</td>\n",
       "    </tr>\n",
       "    <tr>\n",
       "      <th>2</th>\n",
       "      <td>unisba.ac.id</td>\n",
       "      <td>http://www.unisba.ac.id/</td>\n",
       "      <td>Indonesia</td>\n",
       "      <td>Universitas Islam Bandung</td>\n",
       "    </tr>\n",
       "  </tbody>\n",
       "</table>\n",
       "</div>"
      ],
      "text/plain": [
       "        domains                 web_pages    country  \\\n",
       "0     itb.ac.id     http://www.itb.ac.id/  Indonesia   \n",
       "1  polban.ac.id  http://www.polban.ac.id/  Indonesia   \n",
       "2  unisba.ac.id  http://www.unisba.ac.id/  Indonesia   \n",
       "\n",
       "                         name  \n",
       "0  Institut Teknologi Bandung  \n",
       "1   Politeknik Negeri Bandung  \n",
       "2   Universitas Islam Bandung  "
      ]
     },
     "execution_count": 7,
     "metadata": {},
     "output_type": "execute_result"
    }
   ],
   "source": [
    "df"
   ]
  },
  {
   "cell_type": "code",
   "execution_count": 8,
   "metadata": {},
   "outputs": [
    {
     "data": {
      "text/plain": [
       "3"
      ]
     },
     "execution_count": 8,
     "metadata": {},
     "output_type": "execute_result"
    }
   ],
   "source": [
    "# Load Data to the sqlalchemy\n",
    "disk_engine = create_engine('sqlite:///my_lite_store.db') #create disk for db\n",
    "df.to_sql('bdg_uni', disk_engine, if_exists='replace') #create table bdg_uni"
   ]
  }
 ],
 "metadata": {
  "kernelspec": {
   "display_name": "base",
   "language": "python",
   "name": "python3"
  },
  "language_info": {
   "codemirror_mode": {
    "name": "ipython",
    "version": 3
   },
   "file_extension": ".py",
   "mimetype": "text/x-python",
   "name": "python",
   "nbconvert_exporter": "python",
   "pygments_lexer": "ipython3",
   "version": "3.11.5"
  }
 },
 "nbformat": 4,
 "nbformat_minor": 2
}
