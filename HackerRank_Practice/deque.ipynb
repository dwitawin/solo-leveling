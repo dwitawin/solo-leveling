{
 "cells": [
  {
   "cell_type": "code",
   "execution_count": 3,
   "metadata": {},
   "outputs": [],
   "source": [
    "from collections import deque"
   ]
  },
  {
   "cell_type": "code",
   "execution_count": 4,
   "metadata": {},
   "outputs": [
    {
     "name": "stdout",
     "output_type": "stream",
     "text": [
      "deque([1])\n"
     ]
    }
   ],
   "source": [
    "# examples\n",
    "d = deque()\n",
    "\n",
    "#1\n",
    "d.append(1)\n",
    "print(d)"
   ]
  },
  {
   "cell_type": "code",
   "execution_count": 5,
   "metadata": {},
   "outputs": [
    {
     "name": "stdout",
     "output_type": "stream",
     "text": [
      "deque([2, 1])\n"
     ]
    }
   ],
   "source": [
    "#2\n",
    "d.appendleft(2)\n",
    "print(d)"
   ]
  },
  {
   "cell_type": "code",
   "execution_count": 6,
   "metadata": {},
   "outputs": [
    {
     "name": "stdout",
     "output_type": "stream",
     "text": [
      "deque([])\n"
     ]
    }
   ],
   "source": [
    "#3\n",
    "d.clear()\n",
    "print(d)"
   ]
  },
  {
   "cell_type": "code",
   "execution_count": 7,
   "metadata": {},
   "outputs": [
    {
     "name": "stdout",
     "output_type": "stream",
     "text": [
      "deque(['1'])\n"
     ]
    }
   ],
   "source": [
    "#4\n",
    "d.extend('1')\n",
    "print(d)"
   ]
  },
  {
   "cell_type": "code",
   "execution_count": 8,
   "metadata": {},
   "outputs": [
    {
     "name": "stdout",
     "output_type": "stream",
     "text": [
      "deque(['4', '3', '2', '1'])\n"
     ]
    }
   ],
   "source": [
    "#5\n",
    "d.extendleft('234')\n",
    "print(d)"
   ]
  },
  {
   "cell_type": "code",
   "execution_count": 10,
   "metadata": {},
   "outputs": [
    {
     "data": {
      "text/plain": [
       "1"
      ]
     },
     "execution_count": 10,
     "metadata": {},
     "output_type": "execute_result"
    }
   ],
   "source": [
    "#6\n",
    "d.count('1')\n",
    "d.count('3')"
   ]
  },
  {
   "cell_type": "code",
   "execution_count": 11,
   "metadata": {},
   "outputs": [
    {
     "data": {
      "text/plain": [
       "'1'"
      ]
     },
     "execution_count": 11,
     "metadata": {},
     "output_type": "execute_result"
    }
   ],
   "source": [
    "#7\n",
    "d.pop()"
   ]
  },
  {
   "cell_type": "code",
   "execution_count": 12,
   "metadata": {},
   "outputs": [
    {
     "name": "stdout",
     "output_type": "stream",
     "text": [
      "deque(['4', '3', '2'])\n"
     ]
    }
   ],
   "source": [
    "print(d)\n"
   ]
  },
  {
   "cell_type": "code",
   "execution_count": 13,
   "metadata": {},
   "outputs": [
    {
     "name": "stdout",
     "output_type": "stream",
     "text": [
      "deque(['3', '2'])\n"
     ]
    }
   ],
   "source": [
    "#8\n",
    "d.popleft()\n",
    "print(d)"
   ]
  },
  {
   "cell_type": "code",
   "execution_count": 14,
   "metadata": {},
   "outputs": [
    {
     "name": "stdout",
     "output_type": "stream",
     "text": [
      "deque(['3', '2', '7', '8', '9', '6'])\n"
     ]
    }
   ],
   "source": [
    "#9\n",
    "d.extend('7896')\n",
    "print(d)"
   ]
  },
  {
   "cell_type": "code",
   "execution_count": 16,
   "metadata": {},
   "outputs": [
    {
     "ename": "ValueError",
     "evalue": "'2' is not in deque",
     "output_type": "error",
     "traceback": [
      "\u001b[0;31m---------------------------------------------------------------------------\u001b[0m",
      "\u001b[0;31mValueError\u001b[0m                                Traceback (most recent call last)",
      "\u001b[1;32m/Users/ita/Desktop/solo-leveling/HackerRank_Practice/deque.ipynb Cell 12\u001b[0m line \u001b[0;36m2\n\u001b[1;32m      <a href='vscode-notebook-cell:/Users/ita/Desktop/solo-leveling/HackerRank_Practice/deque.ipynb#X14sZmlsZQ%3D%3D?line=0'>1</a>\u001b[0m \u001b[39m#10\u001b[39;00m\n\u001b[0;32m----> <a href='vscode-notebook-cell:/Users/ita/Desktop/solo-leveling/HackerRank_Practice/deque.ipynb#X14sZmlsZQ%3D%3D?line=1'>2</a>\u001b[0m d\u001b[39m.\u001b[39mremove(\u001b[39m'\u001b[39m\u001b[39m2\u001b[39m\u001b[39m'\u001b[39m)\n\u001b[1;32m      <a href='vscode-notebook-cell:/Users/ita/Desktop/solo-leveling/HackerRank_Practice/deque.ipynb#X14sZmlsZQ%3D%3D?line=2'>3</a>\u001b[0m \u001b[39mprint\u001b[39m(d)\n",
      "\u001b[0;31mValueError\u001b[0m: '2' is not in deque"
     ]
    }
   ],
   "source": [
    "#10\n",
    "d.remove('2')\n",
    "print(d)"
   ]
  },
  {
   "cell_type": "code",
   "execution_count": 17,
   "metadata": {},
   "outputs": [],
   "source": [
    "#11\n",
    "d.reverse()"
   ]
  },
  {
   "cell_type": "code",
   "execution_count": 18,
   "metadata": {},
   "outputs": [
    {
     "name": "stdout",
     "output_type": "stream",
     "text": [
      "deque(['6', '9', '8', '7', '3'])\n"
     ]
    }
   ],
   "source": [
    "print(d)"
   ]
  },
  {
   "cell_type": "code",
   "execution_count": 19,
   "metadata": {},
   "outputs": [],
   "source": [
    "#12\n",
    "d.rotate(3)"
   ]
  },
  {
   "cell_type": "code",
   "execution_count": 20,
   "metadata": {},
   "outputs": [
    {
     "name": "stdout",
     "output_type": "stream",
     "text": [
      "deque(['8', '7', '3', '6', '9'])\n"
     ]
    }
   ],
   "source": [
    "print(d)"
   ]
  },
  {
   "cell_type": "code",
   "execution_count": 21,
   "metadata": {},
   "outputs": [
    {
     "name": "stdout",
     "output_type": "stream",
     "text": [
      "6\n"
     ]
    }
   ],
   "source": [
    "# create number input\n",
    "n = int(input())\n",
    "print(n)"
   ]
  },
  {
   "cell_type": "code",
   "execution_count": 22,
   "metadata": {},
   "outputs": [
    {
     "name": "stdout",
     "output_type": "stream",
     "text": [
      "deque([1, 2])\n"
     ]
    }
   ],
   "source": [
    "d = deque()\n",
    "\n",
    "for i in range(n):\n",
    "    x_command = input()\n",
    "    if x_command == 'pop':\n",
    "        d.pop()\n",
    "    elif x_command == 'popleft':\n",
    "        d.popleft()\n",
    "    else:\n",
    "        command, value = x_command.strip().split()\n",
    "        value = int(value)\n",
    "        if command == 'append':\n",
    "            d.append(value)\n",
    "        else:\n",
    "            d.appendleft(value)\n",
    "\n",
    "print(d)\n"
   ]
  },
  {
   "cell_type": "code",
   "execution_count": 23,
   "metadata": {},
   "outputs": [
    {
     "name": "stdout",
     "output_type": "stream",
     "text": [
      "1 2\n"
     ]
    }
   ],
   "source": [
    "print(*d)"
   ]
  }
 ],
 "metadata": {
  "language_info": {
   "name": "python"
  }
 },
 "nbformat": 4,
 "nbformat_minor": 2
}
