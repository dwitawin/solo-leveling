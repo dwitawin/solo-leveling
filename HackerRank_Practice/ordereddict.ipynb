{
 "cells": [
  {
   "cell_type": "code",
   "execution_count": 11,
   "metadata": {},
   "outputs": [],
   "source": [
    "from collections import OrderedDict"
   ]
  },
  {
   "cell_type": "code",
   "execution_count": 12,
   "metadata": {},
   "outputs": [],
   "source": [
    "# create number input\n",
    "n = int(input())"
   ]
  },
  {
   "cell_type": "code",
   "execution_count": 13,
   "metadata": {},
   "outputs": [
    {
     "name": "stdout",
     "output_type": "stream",
     "text": [
      "BANANA FRIES 12\n",
      "POTATO CHIPS 60\n",
      "APPLE JUICE 20\n",
      "CANDY 20\n"
     ]
    }
   ],
   "source": [
    "# create the ordered dict\n",
    "item_dict_ordered = OrderedDict()\n",
    "for i in range(n):\n",
    "    item, price = input().strip().rsplit(' ', 1)\n",
    "    price = int(price)\n",
    "\n",
    "    if item in item_dict_ordered:\n",
    "        item_dict_ordered[item] += price\n",
    "    else:\n",
    "        item_dict_ordered[item] = price\n",
    "\n",
    "for item, price in item_dict_ordered.items():\n",
    "    print(item, price)"
   ]
  },
  {
   "cell_type": "markdown",
   "metadata": {},
   "source": [
    "9\n",
    "BANANA FRIES 12\n",
    "POTATO CHIPS 30\n",
    "APPLE JUICE 10\n",
    "CANDY 5\n",
    "APPLE JUICE 10\n",
    "CANDY 5\n",
    "CANDY 5\n",
    "CANDY 5\n",
    "POTATO CHIPS 30"
   ]
  }
 ],
 "metadata": {
  "language_info": {
   "name": "python"
  }
 },
 "nbformat": 4,
 "nbformat_minor": 2
}
